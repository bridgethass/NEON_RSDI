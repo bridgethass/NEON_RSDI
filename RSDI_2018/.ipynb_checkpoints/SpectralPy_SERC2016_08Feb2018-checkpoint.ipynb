{
 "cells": [
  {
   "cell_type": "code",
   "execution_count": 1,
   "metadata": {
    "collapsed": false
   },
   "outputs": [
    {
     "data": {
      "text/plain": [
       "'3.4.5 |Anaconda custom (64-bit)| (default, Jul  5 2016, 14:53:07) [MSC v.1600 64 bit (AMD64)]'"
      ]
     },
     "execution_count": 1,
     "metadata": {},
     "output_type": "execute_result"
    }
   ],
   "source": [
    "import sys\n",
    "sys.version"
   ]
  },
  {
   "cell_type": "code",
   "execution_count": 2,
   "metadata": {
    "collapsed": false
   },
   "outputs": [],
   "source": [
    "#Install spectral package from Jupyter\n",
    "#!{sys.executable} -m pip install spectral "
   ]
  },
  {
   "cell_type": "code",
   "execution_count": 3,
   "metadata": {
    "collapsed": true
   },
   "outputs": [],
   "source": [
    "from spectral import *\n",
    "import h5py\n",
    "import matplotlib.pyplot as plt\n",
    "%matplotlib inline\n",
    "import warnings\n",
    "warnings.filterwarnings('ignore')"
   ]
  },
  {
   "cell_type": "code",
   "execution_count": 4,
   "metadata": {
    "collapsed": false
   },
   "outputs": [],
   "source": [
    "serc2016_hdf5 = h5py.File('C:/Users/bhass/Desktop/RSDI/RSDI_2017/data/SERC/hyperspectral/NEON_D02_SERC_DP1_20160807_160559_reflectance.h5','r')"
   ]
  },
  {
   "cell_type": "code",
   "execution_count": 5,
   "metadata": {
    "collapsed": false
   },
   "outputs": [
    {
     "name": "stdout",
     "output_type": "stream",
     "text": [
      "SERC/Reflectance/Metadata/Ancillary_Imagery/Aerosol_Optical_Depth\n",
      "SERC/Reflectance/Metadata/Ancillary_Imagery/Aspect\n",
      "SERC/Reflectance/Metadata/Ancillary_Imagery/Cast_Shadow\n",
      "SERC/Reflectance/Metadata/Ancillary_Imagery/Dark_Dense_Vegetation_Classification\n",
      "SERC/Reflectance/Metadata/Ancillary_Imagery/Haze_Cloud_Water_Map\n",
      "SERC/Reflectance/Metadata/Ancillary_Imagery/Illumination_Factor\n",
      "SERC/Reflectance/Metadata/Ancillary_Imagery/Path_Length\n",
      "SERC/Reflectance/Metadata/Ancillary_Imagery/Sky_View_Factor\n",
      "SERC/Reflectance/Metadata/Ancillary_Imagery/Slope\n",
      "SERC/Reflectance/Metadata/Ancillary_Imagery/Smooth_Surface_Elevation\n",
      "SERC/Reflectance/Metadata/Ancillary_Imagery/Visibility_Index_Map\n",
      "SERC/Reflectance/Metadata/Ancillary_Imagery/Water_Vapor_Column\n",
      "SERC/Reflectance/Metadata/Coordinate_System/Coordinate_System_String\n",
      "SERC/Reflectance/Metadata/Coordinate_System/EPSG Code\n",
      "SERC/Reflectance/Metadata/Coordinate_System/Map_Info\n",
      "SERC/Reflectance/Metadata/Coordinate_System/Proj4\n",
      "SERC/Reflectance/Metadata/Flight_Trajectory/Flight_Altitude\n",
      "SERC/Reflectance/Metadata/Flight_Trajectory/Flight_Heading\n",
      "SERC/Reflectance/Metadata/Flight_Trajectory/Flight_Time\n",
      "SERC/Reflectance/Metadata/Logs/ATCOR_Processing_Log\n",
      "SERC/Reflectance/Metadata/Logs/ATCOR_input_file\n",
      "SERC/Reflectance/Metadata/Logs/Shadow_Processing_Log\n",
      "SERC/Reflectance/Metadata/Logs/Skyview_Processing_Log\n",
      "SERC/Reflectance/Metadata/Logs/Solar_Azimuth_Angle\n",
      "SERC/Reflectance/Metadata/Logs/Solar_Zenith_Angle\n",
      "SERC/Reflectance/Metadata/Spectral_Data/FWHM\n",
      "SERC/Reflectance/Metadata/Spectral_Data/Wavelength\n",
      "SERC/Reflectance/Metadata/to-sensor_Azimuth_Angle\n",
      "SERC/Reflectance/Metadata/to-sensor_Zenith_Angle\n",
      "SERC/Reflectance/Reflectance_Data\n"
     ]
    }
   ],
   "source": [
    "def list_dataset(name,node):\n",
    "    if isinstance(node,h5py.Dataset):\n",
    "        print(name)\n",
    "        \n",
    "serc2016_hdf5.visititems(list_dataset)"
   ]
  },
  {
   "cell_type": "code",
   "execution_count": 13,
   "metadata": {
    "collapsed": false
   },
   "outputs": [
    {
     "name": "stdout",
     "output_type": "stream",
     "text": [
      "<HDF5 group \"/SERC/Reflectance\" (2 members)>\n",
      "<HDF5 dataset \"Reflectance_Data\": shape (10852, 1106, 426), type \"<i2\">\n",
      "SERC 2016 Reflectance Array Shape: (10852, 1106, 426)\n",
      "Pixel Shape: (426,)\n",
      "Band 10 Shape: (10852, 1106)\n"
     ]
    }
   ],
   "source": [
    "serc2016_refl = serc2016_hdf5['SERC']['Reflectance']\n",
    "print(serc2016_refl)\n",
    "\n",
    "serc2016_reflArray = serc2016_refl['Reflectance_Data']\n",
    "print(serc2016_reflArray)\n",
    "print('SERC 2016 Reflectance Array Shape:',serc2016_reflArray.shape)\n",
    "\n",
    "pixel = serc2016_reflArray[5000,500]\n",
    "print('Pixel Shape:',pixel.shape)\n",
    "\n",
    "band10 = serc2016_reflArray[:,:,9]\n",
    "print('Band 10 Shape:',band10.shape)"
   ]
  },
  {
   "cell_type": "code",
   "execution_count": 14,
   "metadata": {
    "collapsed": false
   },
   "outputs": [
    {
     "data": {
      "text/plain": [
       "h5py._hl.dataset.Dataset"
      ]
     },
     "execution_count": 14,
     "metadata": {},
     "output_type": "execute_result"
    }
   ],
   "source": [
    "serc2016_reflArray.__class__"
   ]
  },
  {
   "cell_type": "code",
   "execution_count": null,
   "metadata": {
    "collapsed": true
   },
   "outputs": [],
   "source": []
  }
 ],
 "metadata": {
  "kernelspec": {
   "display_name": "Python 3.4",
   "language": "python",
   "name": "py34"
  },
  "language_info": {
   "codemirror_mode": {
    "name": "ipython",
    "version": 3
   },
   "file_extension": ".py",
   "mimetype": "text/x-python",
   "name": "python",
   "nbconvert_exporter": "python",
   "pygments_lexer": "ipython3",
   "version": "3.4.5"
  }
 },
 "nbformat": 4,
 "nbformat_minor": 2
}
